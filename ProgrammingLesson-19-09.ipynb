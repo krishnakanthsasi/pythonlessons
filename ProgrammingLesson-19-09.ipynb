{
 "cells": [
  {
   "cell_type": "markdown",
   "metadata": {},
   "source": [
    "# Welcome to our 2nd class\n",
    "\n",
    "The Current document gives out a summary of everything covered during this class.\n",
    "\n",
    "## Summary \n",
    "1. Questions from previous class\n",
    "2. Control Flow\n",
    "    1. Conditionals\n",
    "    2. Loops\n",
    "3. Practice problems."
   ]
  },
  {
   "cell_type": "markdown",
   "metadata": {},
   "source": [
    "**Let's get started**  \n",
    "\n",
    "1. Questions from previous class.  \n",
    "    How to take input as decimal number instead of int?\n",
    "    \n",
    "    \n",
    "In python `input()` function takes in value from the user as a string. This can be converted to variables of other types by using `type_name()`. Here `type_name` cane be `int`, `float` or `str`.  \n",
    "Examples:  \n",
    "```\n",
    "int(3.14)\n",
    "float(3)\n",
    "str(3.5)\n",
    "```\n",
    "You can check the output of the above functions and see what each of them gives as a result.  \n",
    "In case of the taking a decimal number as a input, we use `float()` on the `input` function.  \n",
    "This is illustrated in the following code."
   ]
  },
  {
   "cell_type": "code",
   "execution_count": 9,
   "metadata": {},
   "outputs": [
    {
     "name": "stdout",
     "output_type": "stream",
     "text": [
      "Enter first nunmber\n",
      "4.5\n",
      "Enter second number\n",
      "5.6\n",
      "10.1\n"
     ]
    }
   ],
   "source": [
    "# following code takes in two decimal numbers as input and prints their sum.\n",
    "\n",
    "a = float(input(\"Enter first nunmber\\n\"))\n",
    "b = float(input(\"Enter second number\\n\"))\n",
    "print(a+b)"
   ]
  },
  {
   "cell_type": "markdown",
   "metadata": {},
   "source": [
    "2. Control Flow  \n",
    "Control Flow is the order in the statments in a program is executed. Till now, we have seen that the statements are executed step by step. There are two ways to change this in python. Before understanding these approaches, let's first learn about a boolean expressions.  \n",
    "**Boolean Expression**\n",
    "\n",
    "Boolean expression are those statements in python which when executed give either `True` or `False` as a result.\n",
    "Following code snippets are example of this.  "
   ]
  },
  {
   "cell_type": "code",
   "execution_count": 7,
   "metadata": {},
   "outputs": [
    {
     "data": {
      "text/plain": [
       "True"
      ]
     },
     "execution_count": 7,
     "metadata": {},
     "output_type": "execute_result"
    }
   ],
   "source": [
    "6 > 5"
   ]
  },
  {
   "cell_type": "code",
   "execution_count": 8,
   "metadata": {},
   "outputs": [
    {
     "data": {
      "text/plain": [
       "False"
      ]
     },
     "execution_count": 8,
     "metadata": {},
     "output_type": "execute_result"
    }
   ],
   "source": [
    "4 > 5"
   ]
  },
  {
   "cell_type": "code",
   "execution_count": 9,
   "metadata": {},
   "outputs": [
    {
     "data": {
      "text/plain": [
       "True"
      ]
     },
     "execution_count": 9,
     "metadata": {},
     "output_type": "execute_result"
    }
   ],
   "source": [
    "5<=5"
   ]
  },
  {
   "cell_type": "code",
   "execution_count": 11,
   "metadata": {},
   "outputs": [
    {
     "data": {
      "text/plain": [
       "True"
      ]
     },
     "execution_count": 11,
     "metadata": {},
     "output_type": "execute_result"
    }
   ],
   "source": [
    "'Mateo' == 'Mateo'"
   ]
  },
  {
   "cell_type": "markdown",
   "metadata": {},
   "source": [
    "As can be seen above, in boolean expression, we are comparing two variables through operators such as `>`(greater than), `<`(less than), `==`(equal to), `!=`(not equal too), `>=`(greater than or equal to), `<`(less than or equal to).\n",
    "\n",
    "We can also combine mulitiple boolean expressions into a single statement by using `or` and `and` operators. These examples give how they work together."
   ]
  },
  {
   "cell_type": "code",
   "execution_count": 15,
   "metadata": {},
   "outputs": [
    {
     "name": "stdout",
     "output_type": "stream",
     "text": [
      "False\n",
      "True\n"
     ]
    }
   ],
   "source": [
    "print(2 > 1 and 3 > 4)\n",
    "print(2 > 1 or 3 > 4)"
   ]
  },
  {
   "cell_type": "markdown",
   "metadata": {},
   "source": [
    "`and` checks whether both comparisons are true, and outputs True only when both boolean expressions are valid.  \n",
    "`or` outputs True if one of the boolean expression is True, and ouputs False only when both the boolean expressions are False."
   ]
  },
  {
   "cell_type": "markdown",
   "metadata": {},
   "source": [
    "*Going back to control flow, we use the knowlegde of Boolean expressions.*\n",
    "As dicussed earlier there are two approaches to influence control flow, and these are through  \n",
    "1. Conditionals  \n",
    "Conditionals help in making decisions based on the truth of various boolean expressions. This approach is useful when we have multiple statements, but need to executes only one result based what the given input is. The following code illustrates an example.  "
   ]
  },
  {
   "cell_type": "code",
   "execution_count": 16,
   "metadata": {},
   "outputs": [
    {
     "name": "stdout",
     "output_type": "stream",
     "text": [
      "Hey, Mateo! what do you see in the store?\n",
      "eggs\n",
      "Okay, Mateo. Buy 10 eggs!\n"
     ]
    }
   ],
   "source": [
    "Grocery = input(\"Hey, Mateo! what do you see in the store?\\n\")\n",
    "if Grocery == 'eggs':\n",
    "    print(\"Okay, Mateo. Buy 10 eggs!\")\n",
    "if Grocery == \"milk\":\n",
    "    print(\"Okay, Mateo. Buy 2 packets of milk!\")\n",
    "    \n",
    "# The above program checks what is in the grocery, and print a different result each time.    "
   ]
  },
  {
   "cell_type": "markdown",
   "metadata": {},
   "source": [
    "Conditionals in python are implemented through `if`, `if-else`, and `if elif else` statements. The following code shows an example."
   ]
  },
  {
   "cell_type": "code",
   "execution_count": 17,
   "metadata": {},
   "outputs": [
    {
     "name": "stdout",
     "output_type": "stream",
     "text": [
      "Enter a nunmber\n",
      "78\n",
      "78 is greater than 6\n"
     ]
    }
   ],
   "source": [
    "a = int(input(\"Enter a nunmber\\n\"))\n",
    "if a > 6:\n",
    "    print(\"%d is greater than 6\" %(a))\n",
    "elif a == 6:\n",
    "    print(\"%d is equal to 6\" %(a))\n",
    "else:\n",
    "    print(\"%d is less than 6\" %(a))"
   ]
  },
  {
   "cell_type": "markdown",
   "metadata": {},
   "source": [
    "2. Loops\n",
    "\n",
    "Another way to affect control flow in computation is through loops. Loops refer to a set of statements that are executed repeatedly. Loops are implemented in python using `for` and `while` statements. An example of each are given below.\n"
   ]
  },
  {
   "cell_type": "code",
   "execution_count": 18,
   "metadata": {},
   "outputs": [
    {
     "name": "stdout",
     "output_type": "stream",
     "text": [
      "1\n",
      "2\n",
      "3\n",
      "4\n",
      "5\n"
     ]
    }
   ],
   "source": [
    "# Normal way to print numbers from 1 to 5\n",
    "print(1)\n",
    "print(2)\n",
    "print(3)\n",
    "print(4)\n",
    "print(5)"
   ]
  },
  {
   "cell_type": "code",
   "execution_count": 19,
   "metadata": {},
   "outputs": [
    {
     "name": "stdout",
     "output_type": "stream",
     "text": [
      "1\n",
      "2\n",
      "3\n",
      "4\n",
      "5\n",
      "the end\n"
     ]
    }
   ],
   "source": [
    "# Now using while loop\n",
    "a = 1\n",
    "while a<6:\n",
    "    print(a)\n",
    "    a = a+1"
   ]
  },
  {
   "cell_type": "code",
   "execution_count": 20,
   "metadata": {},
   "outputs": [
    {
     "name": "stdout",
     "output_type": "stream",
     "text": [
      "1\n",
      "2\n",
      "3\n",
      "4\n",
      "5\n"
     ]
    }
   ],
   "source": [
    "# using for loop\n",
    "\n",
    "for i in range(1,6):\n",
    "    print(i) "
   ]
  },
  {
   "cell_type": "markdown",
   "metadata": {},
   "source": [
    "Just like conditional, loops are executed as well based on the *truth* of boolean expression.\n",
    "\n",
    "**Now let's look at couple of examples to practice**"
   ]
  },
  {
   "cell_type": "markdown",
   "metadata": {},
   "source": [
    "### Practice Problems\n",
    "1. Ask the user to enter a number and check whether the number is even(multiples of 2) or odd(not multiples of 2).\n",
    "2. Print numbers from 1 to 1000\n",
    "3. Take input from the user asking for a name, if the first letter of the name is vowel, print the name 5 times, otherwise print it 7 times.\n"
   ]
  },
  {
   "cell_type": "markdown",
   "metadata": {},
   "source": [
    "### Other platforms to practice: \n",
    "**Apps**  \n",
    "Programminghub, Grasshopper  \n",
    "**Websites**  \n",
    "Topcoder, codechef, devpost  \n",
    "**Other ways to practice**  \n",
    "I will send you exercise every two days to practice if you have time.\n"
   ]
  },
  {
   "cell_type": "code",
   "execution_count": null,
   "metadata": {},
   "outputs": [],
   "source": []
  }
 ],
 "metadata": {
  "kernelspec": {
   "display_name": "Python 3",
   "language": "python",
   "name": "python3"
  },
  "language_info": {
   "codemirror_mode": {
    "name": "ipython",
    "version": 3
   },
   "file_extension": ".py",
   "mimetype": "text/x-python",
   "name": "python",
   "nbconvert_exporter": "python",
   "pygments_lexer": "ipython3",
   "version": "3.7.3"
  }
 },
 "nbformat": 4,
 "nbformat_minor": 2
}

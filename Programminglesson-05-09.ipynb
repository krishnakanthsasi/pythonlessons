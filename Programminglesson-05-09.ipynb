{
 "cells": [
  {
   "cell_type": "markdown",
   "metadata": {},
   "source": [
    "# This is our first python class\n",
    "\n",
    "## Overall structure of the course\n",
    "+ Learn the fundamentals of programming on python.\n",
    "+ Make a small animation or game on scratcj\n",
    "+ Checking out different gaming libraries in python\n",
    "+ Making your first python based game.\n",
    "\n",
    "\n",
    "## What we going to learn today?\n",
    "\n",
    "1. What is programming?\n",
    "    - It is passing a set of instructions to the computer to do something we like.\n",
    "2. Why do we need to program?\n",
    "    - It is a tool to solve problems\n",
    "3. How do we program?\n",
    "    - Languages\n",
    "        1. High level programming languages - python, cpp, java, scratch\n",
    "        2. Low programming languages - assembly or machine language\n",
    "    \n",
    "    - Computational thinking\n",
    "        1. It is more about being able to think a certain way than using a particular language\n",
    "\n",
    "4. Making our first python program!\n",
    "    - Let's say Hello to the World!\n",
    "       "
   ]
  },
  {
   "cell_type": "markdown",
   "metadata": {},
   "source": [
    "# This program says hello world"
   ]
  },
  {
   "cell_type": "code",
   "execution_count": 44,
   "metadata": {},
   "outputs": [
    {
     "name": "stdout",
     "output_type": "stream",
     "text": [
      "Hello World\n"
     ]
    }
   ],
   "source": [
    "print('Hello World')"
   ]
  },
  {
   "cell_type": "markdown",
   "metadata": {},
   "source": [
    "## Comments\n",
    "It is very useful to write comments. They are written next to your line of code, and is a way of telling what your code does.\n",
    "They are written using `#`\n",
    "\n",
    "Example: "
   ]
  },
  {
   "cell_type": "code",
   "execution_count": 50,
   "metadata": {},
   "outputs": [
    {
     "name": "stdout",
     "output_type": "stream",
     "text": [
      "This code shows how to write comments\n"
     ]
    }
   ],
   "source": [
    "# this is a comment\n",
    "print('This code shows how to write comments')"
   ]
  },
  {
   "cell_type": "markdown",
   "metadata": {},
   "source": [
    "Note that the comment is not executed when the program is run."
   ]
  },
  {
   "cell_type": "markdown",
   "metadata": {},
   "source": [
    "## Below is an example of a example of small program which was written before the class"
   ]
  },
  {
   "cell_type": "code",
   "execution_count": null,
   "metadata": {},
   "outputs": [],
   "source": [
    "# This is a short code written to introduce the student to the class\n",
    "\n",
    "from IPython.display import clear_output\n",
    "\n",
    "def sayHello(studentname):\n",
    "    clear_output(wait=False)\n",
    "    print(\"Hello\", studentname)\n",
    "    print('Welcome to the class')\n",
    "    print('I wish you all the best!')\n",
    "    return\n",
    "name = input('Please enter your name: ')\n",
    "sayHello(name)"
   ]
  },
  {
   "cell_type": "markdown",
   "metadata": {},
   "source": [
    "# Things we learn today\n",
    "## Variable\n",
    "    - Variables are things used to store values\n",
    "    - Variables can be of different type. It can be integer, string, boolean, or float.\n",
    "    - You can check the type by `type(variable_name)`\n",
    "    - It is also possible to try converting from one type to another.\n",
    "### **Variables can be combination of letters, numbers, _. They should start with a letter or _. They cannot be keywords either**\n",
    "Keywords are special words such as `type`. You cannot therefore name your variable as them, as they are already used by python.\n",
    "#### They are case sensitive.\n",
    "variable `go` is not same as `Go`.\n",
    "## Example of variables "
   ]
  },
  {
   "cell_type": "code",
   "execution_count": 46,
   "metadata": {},
   "outputs": [],
   "source": [
    "# This is an integer variable\n",
    "integer = 625\n",
    "\n",
    "# This is a string variable\n",
    "name = 'Julio Mateos'\n",
    "\n",
    "# This is a floating variable\n",
    "decimal_number = 3.14\n",
    "\n",
    "# This is a boolean variable\n",
    "true_statement = True # It also be False\n"
   ]
  },
  {
   "cell_type": "markdown",
   "metadata": {},
   "source": [
    "## Checking type of a variable"
   ]
  },
  {
   "cell_type": "code",
   "execution_count": 48,
   "metadata": {},
   "outputs": [
    {
     "name": "stdout",
     "output_type": "stream",
     "text": [
      "<class 'str'>\n",
      "<class 'bool'>\n",
      "<class 'int'>\n",
      "<class 'float'>\n"
     ]
    }
   ],
   "source": [
    "# This program checks the type of the variable\n",
    "print(type(name))\n",
    "print(type(true_statement))\n",
    "print(type(integer))\n",
    "print(type(decimal_number))"
   ]
  },
  {
   "cell_type": "markdown",
   "metadata": {},
   "source": [
    "## Type conversion\n",
    "\n",
    "Now let's convert a float to integer and see what happens."
   ]
  },
  {
   "cell_type": "code",
   "execution_count": 51,
   "metadata": {},
   "outputs": [
    {
     "name": "stdout",
     "output_type": "stream",
     "text": [
      "Orginal number:  3.14\n",
      "After conversion:  3\n"
     ]
    }
   ],
   "source": [
    "print('Orginal number: ', decimal_number)\n",
    "converted_integer = int(decimal_number)\n",
    "print('After conversion: ', converted_integer)"
   ]
  },
  {
   "cell_type": "markdown",
   "metadata": {},
   "source": [
    "### How about converting from integer to float?"
   ]
  },
  {
   "cell_type": "code",
   "execution_count": 54,
   "metadata": {},
   "outputs": [
    {
     "name": "stdout",
     "output_type": "stream",
     "text": [
      "Orginal number:  625\n",
      "After conversion:  625.0\n"
     ]
    }
   ],
   "source": [
    "print('Orginal number: ', integer)\n",
    "converted_float = float(integer)\n",
    "print('After conversion: ', converted_float)"
   ]
  },
  {
   "cell_type": "markdown",
   "metadata": {},
   "source": [
    "### *You can play with and see conversion from and to, between other types.*"
   ]
  },
  {
   "cell_type": "markdown",
   "metadata": {},
   "source": [
    "## Operators\n",
    "There are 7 basic operators in python. They are `+`, `-`, `*`, `/`, `**`, `//` and, `%`. They can act between variables. The functions of them are shown in code below.\n"
   ]
  },
  {
   "cell_type": "code",
   "execution_count": 56,
   "metadata": {},
   "outputs": [
    {
     "name": "stdout",
     "output_type": "stream",
     "text": [
      "9\n",
      "-1\n",
      "20\n",
      "0.8\n",
      "0\n",
      "4\n",
      "1024\n"
     ]
    }
   ],
   "source": [
    "# This block of code shows the function of different operators.\n",
    "num1 = 4\n",
    "num2 = 5\n",
    "print(num1+num2)\n",
    "print(num1-num2)\n",
    "print(num1*num2)\n",
    "print(num1/num2)\n",
    "print(num1//num2) # quotient\n",
    "print(num1%num2) # remainder\n",
    "print(num1**num2) # power to"
   ]
  },
  {
   "cell_type": "markdown",
   "metadata": {},
   "source": [
    "## Statements\n",
    "\n",
    "A single line of executable code is called a statement.\n",
    "Everything we have written till now are lines of statements.\n",
    "\n",
    "## Functions\n",
    "\n",
    "Functions are groups of statements put together, than serve to do something. They help in replacing multiple statements into a single line of code for later use.\n",
    "\n",
    "An example is of an `add` function.\n"
   ]
  },
  {
   "cell_type": "code",
   "execution_count": 63,
   "metadata": {},
   "outputs": [],
   "source": [
    "# This is definition of simple function that adds two numbers together and returns their sum.\n",
    "\n",
    "def add(x,y):\n",
    "    sum = x + y\n",
    "    return sum"
   ]
  },
  {
   "cell_type": "markdown",
   "metadata": {},
   "source": [
    "### Function definition\n",
    "\n",
    "As seen above the syntax/code of defining a function is \n",
    "\n",
    "`def function_name(input_parameter1, input_parameter2, input_parameter3):\n",
    "    statments\n",
    "    return something`\n",
    "    \n",
    "### Calling a function\n",
    "To call a function we write the code, `function_name(input)`, as shown below for `add` function. "
   ]
  },
  {
   "cell_type": "code",
   "execution_count": 64,
   "metadata": {},
   "outputs": [
    {
     "data": {
      "text/plain": [
       "9"
      ]
     },
     "execution_count": 64,
     "metadata": {},
     "output_type": "execute_result"
    }
   ],
   "source": [
    "add(4,5)"
   ]
  },
  {
   "cell_type": "markdown",
   "metadata": {},
   "source": [
    "### *It is also possible to store the return value of a function in a variable*"
   ]
  },
  {
   "cell_type": "code",
   "execution_count": 66,
   "metadata": {},
   "outputs": [
    {
     "name": "stdout",
     "output_type": "stream",
     "text": [
      "5\n"
     ]
    }
   ],
   "source": [
    "value_from_function = add(0,5)\n",
    "print(value_from_function)"
   ]
  },
  {
   "cell_type": "markdown",
   "metadata": {},
   "source": [
    "## Now let's generalize our add function. \n",
    "\n",
    "Instead of each time giving the numbers to be added, we take input from the user, and display the end result.\n",
    "**Remember that the** `input()` **function  takes values in string type, and therefore we need to convert to int/float type when we expect integers or decimal numbers**"
   ]
  },
  {
   "cell_type": "code",
   "execution_count": 68,
   "metadata": {},
   "outputs": [
    {
     "name": "stdout",
     "output_type": "stream",
     "text": [
      "Enter your first number: 12\n",
      "Enter your second number: 32\n",
      "Your result is 44\n"
     ]
    }
   ],
   "source": [
    "number1 = int(input('Enter your first number: '))\n",
    "number2 = int(input('Enter your second number: '))\n",
    "\n",
    "result = add(number1, number2)\n",
    "print('Your result is', result)"
   ]
  },
  {
   "cell_type": "markdown",
   "metadata": {},
   "source": [
    "### *Similarly it is very easy to make a substract function based on the concepts and style we already learnt.*"
   ]
  },
  {
   "cell_type": "code",
   "execution_count": 71,
   "metadata": {},
   "outputs": [
    {
     "name": "stdout",
     "output_type": "stream",
     "text": [
      "Enter your first number: 34\n",
      "Enter your second number: 14\n",
      "Your result is 20\n"
     ]
    }
   ],
   "source": [
    "def substract(x,y):\n",
    "    result = x - y\n",
    "    return result\n",
    "\n",
    "\n",
    "number1 = int(input('Enter your first number: '))\n",
    "number2 = int(input('Enter your second number: '))\n",
    "\n",
    "result = substract(number1, number2)\n",
    "print('Your result is', result)"
   ]
  },
  {
   "cell_type": "markdown",
   "metadata": {},
   "source": [
    "### **It is also possible to create functions which do not take inputs or return values such as**"
   ]
  },
  {
   "cell_type": "code",
   "execution_count": 69,
   "metadata": {},
   "outputs": [],
   "source": [
    "# A function which says hello world.\n",
    "def sayHello():\n",
    "    print('Hello World')"
   ]
  },
  {
   "cell_type": "code",
   "execution_count": 70,
   "metadata": {},
   "outputs": [
    {
     "name": "stdout",
     "output_type": "stream",
     "text": [
      "Hello World\n"
     ]
    }
   ],
   "source": [
    "sayHello()"
   ]
  },
  {
   "cell_type": "markdown",
   "metadata": {},
   "source": [
    "### *A fun thing to try would be make a function on your own, taking the name of the person as input.*\n",
    "And always feel free to ask questions! :)"
   ]
  },
  {
   "cell_type": "code",
   "execution_count": null,
   "metadata": {},
   "outputs": [],
   "source": []
  }
 ],
 "metadata": {
  "kernelspec": {
   "display_name": "Python 3",
   "language": "python",
   "name": "python3"
  },
  "language_info": {
   "codemirror_mode": {
    "name": "ipython",
    "version": 3
   },
   "file_extension": ".py",
   "mimetype": "text/x-python",
   "name": "python",
   "nbconvert_exporter": "python",
   "pygments_lexer": "ipython3",
   "version": "3.7.3"
  }
 },
 "nbformat": 4,
 "nbformat_minor": 2
}

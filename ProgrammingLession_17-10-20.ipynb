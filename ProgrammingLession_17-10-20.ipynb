{
 "cells": [
  {
   "cell_type": "markdown",
   "metadata": {},
   "source": [
    "What we we will learn today.\n",
    "\n",
    "Importing external libraries\n",
    "Why are they important?\n",
    "An important of feauture of any programming lanfguage is t immese amount of functions that builtin aviable for its disposal.\n",
    "This is done by importring exising libraries of the lanugugae and using the functions within in.\n",
    "It is also possible to define your own functions. We will not look at that during today's class.\n",
    "\n",
    "1. Libraries importing syntax\n",
    "2. Example libraries\n",
    "3. Using method within the libraries syntax\n",
    "4. Examples of functions."
   ]
  }
 ],
 "metadata": {
  "kernelspec": {
   "display_name": "Python 3",
   "language": "python",
   "name": "python3"
  },
  "language_info": {
   "codemirror_mode": {
    "name": "ipython",
    "version": 3
   },
   "file_extension": ".py",
   "mimetype": "text/x-python",
   "name": "python",
   "nbconvert_exporter": "python",
   "pygments_lexer": "ipython3",
   "version": "3.7.3"
  }
 },
 "nbformat": 4,
 "nbformat_minor": 2
}

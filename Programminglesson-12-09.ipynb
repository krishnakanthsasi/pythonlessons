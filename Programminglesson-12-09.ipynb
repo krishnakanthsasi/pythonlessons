{
 "cells": [
  {
   "cell_type": "markdown",
   "metadata": {},
   "source": [
    "# Welcome to your first class!"
   ]
  },
  {
   "cell_type": "markdown",
   "metadata": {},
   "source": [
    "Let's start with looking at an already built program, and code behind it.   \n",
    "\n",
    "**The below class definition and methods(another name for functions when are defined inside a class and associated with objects) is an examaple of a basic program.**"
   ]
  },
  {
   "cell_type": "code",
   "execution_count": 7,
   "metadata": {},
   "outputs": [],
   "source": [
    "# This are the libraries used in this Program \n",
    "from IPython.display import clear_output\n",
    "import time\n",
    "\n",
    "class Classroom(object):\n",
    "    '''\n",
    "    This class simulates a classroom, and just like a classroom it has a Teacher, Students and Subject that is being learnt. \n",
    "    '''\n",
    "    def __init__(self):\n",
    "        '''\n",
    "        This initializes a classroom, taking in different details and storing it in different variables\n",
    "        '''\n",
    "        self.welcomeDisplay()\n",
    "        \n",
    "        \n",
    "    def welcomeDisplay(self):\n",
    "        '''\n",
    "        This functions displays a short greeting welcoming to the classroom.\n",
    "        '''\n",
    "        print(\"Welcome to the Classroom.\")\n",
    "        self.changeScreenin(2)\n",
    "        print(\"In this classroom, we will learn as best as we can.\")\n",
    "        self.changeScreenin(5)\n",
    "        print(\"and we will do it with joy! :)\")\n",
    "    \n",
    "    def changeScreenin(self, seconds):\n",
    "        '''\n",
    "        This clears the screen after few seconds.\n",
    "        '''\n",
    "        time.sleep(seconds)\n",
    "        clear_output(wait=False)\n",
    "        "
   ]
  },
  {
   "cell_type": "code",
   "execution_count": 8,
   "metadata": {},
   "outputs": [
    {
     "name": "stdout",
     "output_type": "stream",
     "text": [
      "and we will do it with joy! :)\n"
     ]
    }
   ],
   "source": [
    "new_class = Classroom() "
   ]
  },
  {
   "cell_type": "markdown",
   "metadata": {},
   "source": [
    "The `new_class` created here is an example of the *user defined* object. An object has generally attributes(variables) and methods(functions) and assessed with `.` notation. The following is an example"
   ]
  },
  {
   "cell_type": "code",
   "execution_count": 9,
   "metadata": {},
   "outputs": [
    {
     "name": "stdout",
     "output_type": "stream",
     "text": [
      "and we will do it with joy! :)\n"
     ]
    }
   ],
   "source": [
    "new_class.welcomeDisplay()"
   ]
  },
  {
   "cell_type": "code",
   "execution_count": 42,
   "metadata": {},
   "outputs": [
    {
     "name": "stdout",
     "output_type": "stream",
     "text": [
      "Hello World\n"
     ]
    }
   ],
   "source": [
    "print(\"Hello World\") #This line prints Hello World"
   ]
  },
  {
   "cell_type": "markdown",
   "metadata": {},
   "source": [
    "### Now that we have looked a general program, let's go to the basic elements.\n",
    "\n",
    "Goal:\n",
    "\n",
    "Revising basic concepts before getting to data anaytics.\n",
    "\n",
    "Concepts being revised\n",
    "\n",
    "1. Programming:\n",
    "    1. What?  \n",
    "    *Programming is a tool for problem solving*\n",
    "    2. Why?  \n",
    "    *Makes our life easier, even though sometimes technology created without sufficient foresight can lead to unexpected problems*\n",
    "    3. How?  \n",
    "    *Using different languages avaliable, such as python, CPP, Java, Kotlin, being some of the examples. Generally, languages can also problem specific. For example, Kotlin being used for android development*"
   ]
  },
  {
   "cell_type": "markdown",
   "metadata": {},
   "source": [
    "2. Computational thinking vs language  \n",
    "*Even though learning a programming language plays integral role in programming, majorily a programmer needs to develop computational thinking. The ability to create by taking a creation apart into blocks, and bringing them together. During this course we will explore together how to pratice and learn this methodology.*"
   ]
  },
  {
   "cell_type": "markdown",
   "metadata": {},
   "source": [
    "3. Basic elements of the language"
   ]
  },
  {
   "cell_type": "markdown",
   "metadata": {},
   "source": [
    "    1. Variables"
   ]
  },
  {
   "cell_type": "code",
   "execution_count": 10,
   "metadata": {},
   "outputs": [
    {
     "name": "stdout",
     "output_type": "stream",
     "text": [
      "Please Enter your name\n",
      "Flavia\n"
     ]
    }
   ],
   "source": [
    "name = input(\"Please Enter your name\\n\")"
   ]
  },
  {
   "cell_type": "markdown",
   "metadata": {},
   "source": [
    "Variables are labels for storing values. They can stores numberic values(integers, decimals), strings(such as 'a', 'apple'), and Boolean values(True or False). After being initialized, they can be accessed in the program by calling the name such as "
   ]
  },
  {
   "cell_type": "code",
   "execution_count": 12,
   "metadata": {},
   "outputs": [
    {
     "data": {
      "text/plain": [
       "'Flavia'"
      ]
     },
     "execution_count": 12,
     "metadata": {},
     "output_type": "execute_result"
    }
   ],
   "source": [
    "name"
   ]
  },
  {
   "cell_type": "markdown",
   "metadata": {},
   "source": [
    "    2. Statements  \n",
    "A single line of code that is executable is a statement. All that the have written till now are statements."
   ]
  },
  {
   "cell_type": "markdown",
   "metadata": {},
   "source": [
    "    3. Functions  \n",
    "We have already used a function in the above code known as input(), which takes in an input from the user in string format. In essence, every function has a function. Python has a lot of built in functions. but we can also define them. "
   ]
  },
  {
   "cell_type": "code",
   "execution_count": 13,
   "metadata": {},
   "outputs": [
    {
     "name": "stdout",
     "output_type": "stream",
     "text": [
      "Hello Flavia\n"
     ]
    }
   ],
   "source": [
    "# This is an example of a built in function\n",
    "print(\"Hello Flavia\")"
   ]
  },
  {
   "cell_type": "markdown",
   "metadata": {},
   "source": [
    "Traditionally, programming lessons start with printing *Hello World* on the screen. In python3 this is done using `print()` function. "
   ]
  },
  {
   "cell_type": "code",
   "execution_count": 15,
   "metadata": {},
   "outputs": [
    {
     "name": "stdout",
     "output_type": "stream",
     "text": [
      "Please enter your name\n",
      "Julio\n",
      "Hello Julio\n"
     ]
    }
   ],
   "source": [
    "def itssayhello():# You can also take in input parameters here, instead of leaving it blank.\n",
    "    '''\n",
    "    It says hello based on the student name\n",
    "    '''\n",
    "    name = input(\"Please enter your name\\n\")\n",
    "    print(\"Hello\",name)\n",
    "    return # A function ends with a return statements, and it is also possible to return variables or objects here.\n",
    "    \n",
    "itssayhello() # This is how the function that needs to be used is called, similar to built in functions."
   ]
  },
  {
   "cell_type": "markdown",
   "metadata": {},
   "source": [
    "User defined functions are created and called in the above format.  `''' docstring '''` The docstring written in the above function is a multiline commment which is used to document the function and its usage, and can accessed by calling `help(function_name)`"
   ]
  },
  {
   "cell_type": "code",
   "execution_count": 45,
   "metadata": {},
   "outputs": [
    {
     "name": "stdout",
     "output_type": "stream",
     "text": [
      "Help on built-in function print in module builtins:\n",
      "\n",
      "print(...)\n",
      "    print(value, ..., sep=' ', end='\\n', file=sys.stdout, flush=False)\n",
      "    \n",
      "    Prints the values to a stream, or to sys.stdout by default.\n",
      "    Optional keyword arguments:\n",
      "    file:  a file-like object (stream); defaults to the current sys.stdout.\n",
      "    sep:   string inserted between values, default a space.\n",
      "    end:   string appended after the last value, default a newline.\n",
      "    flush: whether to forcibly flush the stream.\n",
      "\n"
     ]
    }
   ],
   "source": [
    "help(print)"
   ]
  },
  {
   "cell_type": "code",
   "execution_count": 46,
   "metadata": {},
   "outputs": [
    {
     "name": "stdout",
     "output_type": "stream",
     "text": [
      "Help on function itssayhello in module __main__:\n",
      "\n",
      "itssayhello()\n",
      "    It says hello based on the student name\n",
      "\n"
     ]
    }
   ],
   "source": [
    "help(itssayhello)"
   ]
  },
  {
   "cell_type": "markdown",
   "metadata": {},
   "source": [
    "    4. Control Flow  \n",
    "Control flow refers to order in which the program statements are executed. They can be done through conditionals such as `if else` statements or through loops such `for` or `while` statements. "
   ]
  },
  {
   "cell_type": "code",
   "execution_count": 49,
   "metadata": {},
   "outputs": [
    {
     "name": "stdout",
     "output_type": "stream",
     "text": [
      "If is executed\n",
      "This program is done\n"
     ]
    }
   ],
   "source": [
    "a = 6\n",
    "if a > 0:\n",
    "    print(\"If is executed\")\n",
    "else:\n",
    "    print(\"else is executed\")\n",
    "    \n",
    "print(\"This program is done\")"
   ]
  },
  {
   "cell_type": "markdown",
   "metadata": {},
   "source": [
    "The above snippet of code illustrates control flow using `if-else` statements. General version of this way of control flow is `if elif else` statement. The following snippet gives an example of this approach."
   ]
  },
  {
   "cell_type": "code",
   "execution_count": 5,
   "metadata": {},
   "outputs": [
    {
     "name": "stdout",
     "output_type": "stream",
     "text": [
      "Please enter a number between 0 to 9\n",
      "5\n",
      "The number you have entered is 5\n"
     ]
    }
   ],
   "source": [
    "n = int(input(\"Please enter a number between 0 to 9\\n\"))\n",
    "\n",
    "if (n > 5) & (n % 2 == 0): # This reads as condition number greater than 5 AND gives remainder 0, when divided by 2. \n",
    "    print(\"The given number is greater than 5 and is even\")\n",
    "elif (n < 5) & (n % 2 == 0):\n",
    "    print(\"The given number is less than 5 and is even\")\n",
    "elif (n > 5) & (n % 2 != 0):\n",
    "    print(\"The given number is greater than 5 and is odd\")\n",
    "elif (n < 5) & (n % 2 != 0):\n",
    "    print(\"The given number is less than 5 and is odd\")\n",
    "else:\n",
    "    print(\"The number you have entered is 5\")"
   ]
  },
  {
   "cell_type": "code",
   "execution_count": 53,
   "metadata": {},
   "outputs": [
    {
     "name": "stdout",
     "output_type": "stream",
     "text": [
      "9\n",
      "8\n",
      "7\n",
      "6\n",
      "5\n",
      "4\n",
      "3\n",
      "2\n",
      "1\n",
      "0\n",
      "This program is done\n"
     ]
    }
   ],
   "source": [
    "a = 10\n",
    "\n",
    "while a > 0:\n",
    "    a = a - 1 # You can also write it as a -= 1, which means the same\n",
    "    print(a)\n",
    "\n",
    "print(\"This program is done\")"
   ]
  },
  {
   "cell_type": "markdown",
   "metadata": {},
   "source": [
    "The above code shows how a `while` loop is implemented. The control of the program stays inside the body of the `while` loops as long as the condition(`a > 0`) is evaluated to be true. Similarly loops can implemented be by `for` statement.  "
   ]
  },
  {
   "cell_type": "code",
   "execution_count": 16,
   "metadata": {},
   "outputs": [
    {
     "name": "stdout",
     "output_type": "stream",
     "text": [
      "0\n",
      "1\n",
      "2\n",
      "3\n",
      "4\n",
      "5\n",
      "6\n",
      "7\n",
      "8\n",
      "9\n"
     ]
    }
   ],
   "source": [
    " for i in range(10): # can you figure out what range() function does?\n",
    "        print(i)"
   ]
  },
  {
   "cell_type": "markdown",
   "metadata": {},
   "source": [
    "In this case, the loop remains active as long as the iterator `i` is in in the list `[0,1, 2,..,9]`"
   ]
  },
  {
   "cell_type": "markdown",
   "metadata": {},
   "source": [
    "    5. Libraries    \n",
    "Libraries are modules containing groups of functions together. \n",
    "    \n",
    "Examples of libraries are numpy, scipy, pandas. These example libraries are used prominently in data analysis through python. *When a person says he or she is well versed in a language, it ought to imply the person is well versed in the languages libraries, or atleast is cabable of using them.* To use a libraries function, all one needs is to import the library. This done through `import library_name`. The following code snippet gives an example of this code snippet."
   ]
  },
  {
   "cell_type": "code",
   "execution_count": 20,
   "metadata": {},
   "outputs": [
    {
     "name": "stdout",
     "output_type": "stream",
     "text": [
      "Sum of all the elements is 12\n"
     ]
    }
   ],
   "source": [
    "import numpy as np\n",
    "\n",
    "a = [1, 2, 4, 5]\n",
    "sum_of_list = np.sum(a)\n",
    "print(\"Sum of all the elements is\", sum_of_list)"
   ]
  },
  {
   "cell_type": "markdown",
   "metadata": {},
   "source": [
    "    6. Classes or Object Oriented Programming"
   ]
  },
  {
   "cell_type": "markdown",
   "metadata": {},
   "source": [
    "Remember we started our class with defining a `class`. Refer to the beginneing to see how a class is defined, and how it is being used. Most of the data analysis can be done without touching classes, but it is neverthless a good idea to what they are how, and they can be used to create `objects`.   \n",
    "**And remember everything in python is an object.** This mean that everything we have seen or will see can have attributes and properties that will be accessed using the `.` notation."
   ]
  },
  {
   "cell_type": "markdown",
   "metadata": {},
   "source": [
    "## Finally, challenge before next class:\n",
    "\n",
    "### Goal:\n",
    "To build something using some of the concepts learnt in the first class.\n",
    "\n",
    "**Assignment 1**  \n",
    "Write a program that takes an input for any number, and checks whether it is a prime number or not?\n",
    "\n",
    "**Assignment 2**  \n",
    "Write a program that takes the currency in Euros, and converts it your home currency.\n",
    "\n",
    "**Assignment 3**\n",
    "Write a program to asking how your friend feels, and respond back with sentence, based on how he or she is feeling.  \n",
    "*Example, input: sad, output: Don't worry, everything will be alright soon.*\n",
    "\n",
    "\n",
    "You can choose one of them to practise or all of them. :) Happy coding! ;)"
   ]
  },
  {
   "cell_type": "code",
   "execution_count": null,
   "metadata": {},
   "outputs": [],
   "source": []
  }
 ],
 "metadata": {
  "kernelspec": {
   "display_name": "Python 3",
   "language": "python",
   "name": "python3"
  },
  "language_info": {
   "codemirror_mode": {
    "name": "ipython",
    "version": 3
   },
   "file_extension": ".py",
   "mimetype": "text/x-python",
   "name": "python",
   "nbconvert_exporter": "python",
   "pygments_lexer": "ipython3",
   "version": "3.7.3"
  }
 },
 "nbformat": 4,
 "nbformat_minor": 2
}
